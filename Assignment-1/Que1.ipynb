{
 "cells": [
  {
   "cell_type": "markdown",
   "metadata": {},
   "source": [
    "### Que1 - Answer\n",
    "\n",
    "No, the function $d(x,y) = min_{i}|x_{i}-y_{i}|$ is not a metric for dimensions higher than $1$.\n",
    "\n",
    "#### For dimension $=1$\n",
    "\n",
    "- $d(x,x) = min_{i}|x_{i} - x_{i}| = |x - x| = 0$ \n",
    "- $d(x,y) = min_{i}|x_{i} - y_{i}| = |x - y| > 0$ say $x \\neq y$\n",
    "- $d(x,y) + d(y,z) = |x-y| + |y-z| \\ge |x-z|$, by triangle inequality.\n",
    "\n",
    "Hence, all three properties are satisfied, and given function is metric for dimension 1.\n",
    "\n",
    "#### For dimensions $\\ge 2$\n",
    "\n",
    "Proof by contradiction -\n",
    "\n",
    "Suppose dimension is $2$. Let,\n",
    "$x = (1, 3)$\n",
    "$y = (1, 5)$\n",
    "$z = (5, 5)$\n",
    "\n",
    "Now, \n",
    "$d(x,y) = min(|1-1|,|3-5|) = min(0, 2) = 0$,\n",
    "$d(y,z) = min(|1-5|,|5-5|) = min(4, 0) = 0$,\n",
    "$d(x,z) = min(|1-5|,|3-5|) = min(4, 2) = 2$\n",
    "\n",
    "Hence, \n",
    "$d(x,y) + d(y,z) = 0+0 = 0 < 2 = d(x,z) $\n",
    "\n",
    "This is a contradiction of metric property $d(x,y) + d(y,z) \\ge d(x,z)$\n",
    "\n",
    "The above example can be extended for higher dimensions by using\n",
    "$x = (1, 3, 100, 100, 100, 100, ....($all $100s) )$,\n",
    "$y = (1, 5, -100, -100, -100, ....($all $-100s) )$,\n",
    "$z = (5, 5, -100, -100, -100, ....($all $-100s) )$\n",
    "\n"
   ]
  }
 ],
 "metadata": {
  "kernelspec": {
   "display_name": "Python 3",
   "language": "python",
   "name": "python3"
  },
  "language_info": {
   "codemirror_mode": {
    "name": "ipython",
    "version": 3
   },
   "file_extension": ".py",
   "mimetype": "text/x-python",
   "name": "python",
   "nbconvert_exporter": "python",
   "pygments_lexer": "ipython3",
   "version": "3.7.0"
  }
 },
 "nbformat": 4,
 "nbformat_minor": 2
}
